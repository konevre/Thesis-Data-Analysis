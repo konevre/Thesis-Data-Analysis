{
 "cells": [
  {
   "cell_type": "code",
   "execution_count": 222,
   "id": "a3f3e43c",
   "metadata": {},
   "outputs": [],
   "source": [
    "import pandas as pd\n",
    "import numpy as np\n",
    "import matplotlib.pyplot as plt"
   ]
  },
  {
   "cell_type": "code",
   "execution_count": 223,
   "id": "d634f834",
   "metadata": {},
   "outputs": [],
   "source": [
    "df = pd.read_csv('data.csv')"
   ]
  },
  {
   "cell_type": "code",
   "execution_count": 224,
   "id": "0949022b",
   "metadata": {},
   "outputs": [
    {
     "data": {
      "text/plain": [
       "260"
      ]
     },
     "execution_count": 224,
     "metadata": {},
     "output_type": "execute_result"
    }
   ],
   "source": [
    "df.head()\n",
    "df.shape[0]"
   ]
  },
  {
   "cell_type": "code",
   "execution_count": 225,
   "id": "e502eaa0",
   "metadata": {},
   "outputs": [],
   "source": [
    "df = df.iloc[:, 1:]"
   ]
  },
  {
   "cell_type": "code",
   "execution_count": 226,
   "id": "0f36e56c",
   "metadata": {},
   "outputs": [
    {
     "name": "stdout",
     "output_type": "stream",
     "text": [
      "['Москва' 'Владимир' 'Санкт-Петербург' 'Павловский Посад' 'Ижевск'\n",
      " 'Белгород' 'Йошкар-Ола' 'Ростов-на-Дону' 'Хабаровск' 'Екатеринбург'\n",
      " 'Воронеж' 'Ульяновск' 'Иваново' 'Искитим' 'Брянск' 'Волгоград' 'Курск'\n",
      " 'Новосибирск' 'Киров' 'Уфа' 'Оренбург' 'Омск' 'Рязань' 'Кемерово'\n",
      " 'Иркутск' 'Краснодар' 'Пермь' 'Новокузнецк' 'Казань' 'Челябинск' 'Самара'\n",
      " 'Таганрог' 'Тольятти' 'Калининград' 'Валуйки' 'Саратов' 'Дзержинск'\n",
      " 'Ялта' 'Нижний Новгород' 'Жигулёвск' 'Барнаул' 'Монино' 'Коркино'\n",
      " 'Тюмень' 'Выборг' 'Красноярск' 'Сергач' 'Вологда' 'Чебоксары'\n",
      " 'Северодвинск' 'Ярославль' 'Кострома' 'Тверь' 'Ясный' 'Энгельс'\n",
      " 'Сыктывкар' 'Апатиты' 'Вольск' 'Тотьма' 'Крымск' 'Артемовский' 'Кудымкар'\n",
      " 'Лесосибирск' 'Урень' 'Ростов' 'Владивосток' 'Феодосия' 'Томск'\n",
      " 'Михайловск' 'Пятигорск' 'Кирово-Чепецк' 'Тамбов' 'Пенза' 'Сегежа' 'Ухта'\n",
      " 'Ангарск' 'Мурманск' 'Братск' 'Псков' 'Улан-Удэ' 'Сургут' 'Качканар'\n",
      " 'Чита' 'Архангельск' 'Тихорецк' 'Ирбит' 'Ставрополь' 'Троицк'\n",
      " 'Магнитогорск']\n"
     ]
    }
   ],
   "source": [
    "unique_values = df[\"city\"].str.strip().unique()\n",
    "print(unique_values)"
   ]
  },
  {
   "cell_type": "code",
   "execution_count": 227,
   "id": "43512bf3",
   "metadata": {},
   "outputs": [],
   "source": [
    "central = [\"Тамбов\", \"Кострома\", \"Монино\", \"Валуйки\", 'Рязань', 'Москва', 'Брянск', 'Иваново', 'Тверь', 'Воронеж', 'Ярославль', 'Владимир', 'Курск', 'Павловский Посад', 'Смоленск', 'Белгород', 'Орёл', 'Тула', \"Ростов\"] \n",
    "northwestern = [\"Архангельск\", \"Псков\", \"Мурманск\", \"Ухта\", \"Сегежа\", \"Тотьма\", \"Апатиты\", \"Сыктывкар\", \"Северодвинск\", \"Вологда\", \"Выборг\", 'Санкт-Петербург', 'Сланцы', 'Петрозаводск', 'Калининград'] \n",
    "southern = [\"Тихорецк\", \"Феодосия\", \"Крымск\", \"Ялта\", 'Таганрог', 'Краснодар', 'Ростов-на-Дону', 'Абинск', 'Волгоград']  \n",
    "north_caucasian = [\"Пятигорск\", \"Михайловск\", 'Невинномысск', 'Ставрополь', 'Сочи'] \n",
    "volga = [\"Пенза\", \"Урень\", \"Кудымкар\", \"Вольск\", \"Энгельс\", \"Ясный\", \"Сергач\", \"Жигулёвск\", 'Йошкар-Ола', 'Казань', 'Пермь', 'Оренбург', 'Тольятти', 'Самара', 'Киров', 'Кирово-Чепецк', 'Уфа', 'Баймак', 'Саратов', 'Ульяновск', 'Березники', 'Нижний Новгород', 'Дзержинск', 'Ижевск', 'Алатырь', 'Чебоксары'] \n",
    "ural = [\"Троицк\", \"Ирбит\", \"Качканар\", \"Артемовский\", \"Коркино\", 'Екатеринбург', 'Челябинск', 'Магнитогорск', 'Тюмень', 'Тобольск', 'Сургут'] \n",
    "siberian = [\"Чита\", \"Улан-Удэ\", \"Братск\", \"Лесосибирск\", 'Искитим', 'Новосибирск', 'Иркутск', 'Ангарск', 'Кемерово', 'Барнаул', 'Томск', 'Новокузнецк', 'Омск', 'Купино', 'Красноярск'] \n",
    "far_eastern = ['Арсеньев', 'Хабаровск', \"Владивосток\"]"
   ]
  },
  {
   "cell_type": "code",
   "execution_count": 228,
   "id": "46c82b62",
   "metadata": {},
   "outputs": [
    {
     "name": "stdout",
     "output_type": "stream",
     "text": [
      "[]\n"
     ]
    }
   ],
   "source": [
    "included_cities = set(central + northwestern + southern + north_caucasian + volga + ural + siberian + far_eastern)\n",
    "not_included_cities = [city for city in unique_values if city not in included_cities]\n",
    "print(not_included_cities)"
   ]
  },
  {
   "cell_type": "code",
   "execution_count": 229,
   "id": "85439e07",
   "metadata": {},
   "outputs": [],
   "source": [
    "central = df.loc[df['city'].str.strip().isin(central), :]\n",
    "northwestern = df.loc[df['city'].str.strip().isin(northwestern), :]\n",
    "southern = df.loc[df['city'].str.strip().isin(southern), :]\n",
    "north_caucasian = df.loc[df['city'].str.strip().isin(north_caucasian), :]\n",
    "volga = df.loc[df['city'].str.strip().isin(volga), :]\n",
    "ural = df.loc[df['city'].str.strip().isin(ural), :]\n",
    "siberian = df.loc[df['city'].str.strip().isin(siberian), :]\n",
    "far_eastern = df.loc[df['city'].str.strip().isin(far_eastern), :]"
   ]
  },
  {
   "cell_type": "code",
   "execution_count": 230,
   "id": "e3ed24e9",
   "metadata": {},
   "outputs": [
    {
     "name": "stdout",
     "output_type": "stream",
     "text": [
      "Central: 79\n",
      "Northwestern: 25\n",
      "Southern: 23\n",
      "North Caucasian: 4\n",
      "Volga: 59\n",
      "Ural: 31\n",
      "Siberian: 33\n",
      "Far eastern: 6\n",
      "Total:  260\n"
     ]
    }
   ],
   "source": [
    "print(\"Central:\", central.count()[1])\n",
    "print(\"Northwestern:\", northwestern.count()[1])\n",
    "print(\"Southern:\", southern.count()[1])\n",
    "print(\"North Caucasian:\", north_caucasian.count()[1])\n",
    "print(\"Volga:\", volga.count()[1])\n",
    "print(\"Ural:\", ural.count()[1])\n",
    "print(\"Siberian:\", siberian.count()[1])\n",
    "print(\"Far eastern:\", far_eastern.count()[1])\n",
    "print(\"Total: \", central.count()[1] + ural.count()[1] + far_eastern.count()[1] + siberian.count()[1] + northwestern.count()[1] + southern.count()[1] + north_caucasian.count()[1] + volga.count()[1])"
   ]
  },
  {
   "cell_type": "code",
   "execution_count": 231,
   "id": "860e2172",
   "metadata": {},
   "outputs": [],
   "source": [
    "def calc_VSM_dimensions(df):\n",
    "    # PDI = 35(m07 – m02) + 25(m23 – m26) + C(pd)\n",
    "    df['PDI'] = 35 * (df['107'] - df['102']) + 25 * (df['123'] - df['126'])\n",
    "    \n",
    "    # IDV = 35(m04 – m01) + 35(m09 – m06) + C(ic)\n",
    "    df['IDV'] = 35 * (df['104'] - df['101']) + 35 * (df['109'] - df['106'])\n",
    "    \n",
    "    # MAS = 35(m05 – m03) + 35(m08 – m10) + C(mf)\n",
    "    df['MAS'] = 35 * (df['105'] - df['103']) + 35 * (df['108'] - df['110'])\n",
    "    \n",
    "    # UAI = 40(m20 - m16) + 25(m24 – m27) + C(ua)\n",
    "    df['UAI'] = 40 * (df['120'] - df['116']) + 25 * (df['124'] - df['127'])\n",
    "    \n",
    "    # LTO = 40(m18 – m15) + 25(m28 – m25) + C(ls)\n",
    "    df['LTO'] = 40 * (df['118'] - df['115']) + 25 * (df['128'] - df['125'])\n",
    "    \n",
    "    # IVR = 35(m12 – m11) + 40(m19 – m17) + C(ir)\n",
    "    df['IVR'] = 35 * (df['112'] - df['111']) + 40 * (df['119'] - df['117'])\n",
    "    \n",
    "    # MON = 35(m14 – m13) + 25(m22 – m21) + C(mo)\n",
    "    df['MON'] = 35 * (df['114'] - df['113']) + 25 * (df['122'] - df['121'])\n",
    "    \n",
    "    return df\n",
    "    "
   ]
  },
  {
   "cell_type": "code",
   "execution_count": 232,
   "id": "e7312be0",
   "metadata": {},
   "outputs": [],
   "source": [
    "def calc_LBDQ_dimensions(df):\n",
    "    # 1 - Representation - 1, 11, 21, 31, 41\n",
    "    df[\"representation\"] = df[[1, 11, 21, 31, 41]].mean(axis=1)\n",
    "    \n",
    "    # 2 - Reconciliation - 51, 61, 71, 81, 91\n",
    "    df[\"reconciliation\"] = df[[51, 61, 71, 81, 91]].mean(axis=1)\n",
    "    \n",
    "    # 3 - Tol. Uncertainty - 2, 12, 22, 32, 42, 52, 62, 72, 82, 92\n",
    "    df[\"uncertainty\"] = df[[2, 12, 22, 32, 42, 52, 62, 72, 82, 92]].mean(axis=1)\n",
    "    \n",
    "    # 4 - Persuasion - 3, 13, 23, 33, 43, 53, 63, 73, 83, 93\n",
    "    df[\"persuasion\"] = df[[3, 13, 23, 33, 43, 53, 63, 73, 83, 93]].mean(axis=1)\n",
    "    \n",
    "    # 5 - Structure - 4, 14, 24, 34, 44, 54, 64, 74, 84, 94\n",
    "    df[\"structure\"] = df[[4, 14, 24, 34, 44, 54, 64, 74, 84, 94]].mean(axis=1)\n",
    "    \n",
    "    # 6 - Tol. Freedom - 5, 15, 25, 35, 45, 55, 65, 75, 85, 95\n",
    "    df[\"freedom\"] = df[[5, 15, 25, 35, 45, 55, 65, 75, 85, 95]].mean(axis=1)\n",
    "    \n",
    "    # 7 - Role Assumption - 6, 16, 26, 36, 46, 56, 66, 76, 86, 96\n",
    "    df[\"role\"] = df[[6, 16, 26, 36, 46, 56, 66, 76, 86, 96]].mean(axis=1)\n",
    "    \n",
    "    # 8 - Consideration - 7, 17, 27, 37, 47, 57, 67, 77, 87, 97\n",
    "    df[\"consideration\"] = df[[7, 17, 27, 37, 47, 57, 67, 77, 87, 97]].mean(axis=1)\n",
    "    \n",
    "    # 9 - Production Emphasis - 8, 18, 28, 38, 48, 58, 68, 78, 88, 98\n",
    "    df[\"production\"] = df[[8, 18, 28, 38, 48, 58, 68, 78, 88, 98]].mean(axis=1)\n",
    "    \n",
    "    # 10 - Predictive Accuracy - 9, 29, 49, 59, 89\n",
    "    df[\"prediction\"] = df[[9, 29, 49, 59, 89]].mean(axis=1)\n",
    "    \n",
    "    # 11 - Integration - 19, 39, 69, 79, 99\n",
    "    df[\"integration\"] = df[[9, 29, 49, 59, 89]].mean(axis=1)\n",
    "    \n",
    "    # 12 - Superior Orientation - 10, 20, 30, 40, 50, 60, 70, 80, 90, 100\n",
    "    df[\"superior\"] = df[[10, 20, 30, 40, 50, 60, 70, 80, 90, 100]].mean(axis=1)\n",
    "    \n",
    "    return df"
   ]
  },
  {
   "cell_type": "code",
   "execution_count": 237,
   "id": "a3bda54a",
   "metadata": {},
   "outputs": [],
   "source": [
    "def clean_lbdq(df):\n",
    "    return_val = df.iloc[:, 7:107]\n",
    "    for i, col in enumerate(return_val.columns, 1):\n",
    "        return_val.rename(columns={col: int(i)}, inplace=True)\n",
    "        \n",
    "    # Dictionary to convert text values to numerical values\n",
    "    mapping_dict = {'A = Всегда': 5, 'B = Часто': 4, 'C = Иногда': 3, 'D = Редко': 2, 'E = Никогда': 1}\n",
    "\n",
    "    # Dictionary to convert text values to numerical values for columns in reverse order\n",
    "    reverse_mapping_dict = {'A = Всегда': 1, 'B = Часто': 2, 'C = Иногда': 3, 'D = Редко': 4, 'E = Никогда': 5}\n",
    "\n",
    "    # List of columns to apply reverse mapping\n",
    "    reverse_mapping_cols = [6, 12, 16, 26, 36, 42, 46, 53, 56, 57, 61, 62, 65, 66, 68, 71, 87, 91, 92, 97]\n",
    "    \n",
    "    for col in return_val.columns:\n",
    "        if col in reverse_mapping_cols:\n",
    "            return_val[col] = return_val[col].replace(reverse_mapping_dict)\n",
    "        else:\n",
    "            return_val[col] = return_val[col].replace(mapping_dict)\n",
    "    \n",
    "    return_val = return_val.rename(columns=dict(zip(return_val.columns, range(1, 101))))\n",
    "    \n",
    "    return calc_LBDQ_dimensions(return_val)\n"
   ]
  },
  {
   "cell_type": "code",
   "execution_count": 234,
   "id": "8d98a3c8",
   "metadata": {},
   "outputs": [],
   "source": [
    "def clean_vsm(df):\n",
    "    return_var = df.loc[:, '101':'128']\n",
    "    for col in return_var:\n",
    "        return_var[col] = return_var[col].str.extract(r'^(\\d)').astype(int)\n",
    "        \n",
    "    return calc_VSM_dimensions(return_var)\n"
   ]
  },
  {
   "cell_type": "code",
   "execution_count": 238,
   "id": "e3572986",
   "metadata": {},
   "outputs": [],
   "source": [
    "# VSM\n",
    "central_vsm = clean_vsm(central)\n",
    "northwestern_vsm = clean_vsm(northwestern)\n",
    "southern_vsm = clean_vsm(southern)\n",
    "volga_vsm = clean_vsm(volga)\n",
    "ural_vsm = clean_vsm(ural)\n",
    "siberian_vsm = clean_vsm(siberian)\n",
    "\n",
    "# LBDQ\n",
    "central_lbdq = clean_lbdq(central)\n",
    "northwestern_lbdq = clean_lbdq(northwestern)\n",
    "southern_lbdq = clean_lbdq(southern)\n",
    "volga_lbdq = clean_lbdq(volga)\n",
    "ural_lbdq = clean_lbdq(ural)\n",
    "siberian_lbdq = clean_lbdq(siberian)\n"
   ]
  },
  {
   "cell_type": "code",
   "execution_count": 236,
   "id": "f85ca9c1",
   "metadata": {},
   "outputs": [],
   "source": [
    "# print('Central PDI:', central_vsm['UAI'].mean())\n",
    "# print('Northwestern PDI:', northwestern_vsm['UAI'].mean())\n",
    "# print('Southern PDI:', southern_vsm['UAI'].mean())\n",
    "# print('Volga PDI:', volga_vsm['UAI'].mean())\n",
    "# print('Ural PDI:', ural_vsm['UAI'].mean())\n",
    "# print('Siberian PDI:', siberian_vsm['UAI'].mean())\n",
    "\n",
    "# print(\"representation \", central_lbdq[\"representation\"].mean())\n",
    "# print(\"reconciliation \", central_lbdq[\"reconciliation\"].mean())\n",
    "# print(\"uncertainty \", central_lbdq[\"uncertainty\"].mean())\n",
    "# print(\"persuasion \", central_lbdq[\"persuasion\"].mean())\n",
    "# print(\"structure \", central_lbdq[\"structure\"].mean())\n",
    "# print(\"freedom \", central_lbdq[\"freedom\"].mean())\n",
    "# print(\"role \", central_lbdq[\"role\"].mean())\n",
    "# print(\"consideration \", central_lbdq[\"consideration\"].mean())\n",
    "# print(\"production \", central_lbdq[\"production\"].mean())\n",
    "# print(\"prediction \", central_lbdq[\"prediction\"].mean())\n",
    "# print(\"integration \", central_lbdq[\"integration\"].mean())\n",
    "# print(\"superior \", central_lbdq[\"superior\"].mean())"
   ]
  },
  {
   "cell_type": "code",
   "execution_count": null,
   "id": "f51c03a4",
   "metadata": {},
   "outputs": [],
   "source": []
  },
  {
   "cell_type": "code",
   "execution_count": null,
   "id": "e668426f",
   "metadata": {},
   "outputs": [],
   "source": []
  }
 ],
 "metadata": {
  "kernelspec": {
   "display_name": "Python 3 (ipykernel)",
   "language": "python",
   "name": "python3"
  },
  "language_info": {
   "codemirror_mode": {
    "name": "ipython",
    "version": 3
   },
   "file_extension": ".py",
   "mimetype": "text/x-python",
   "name": "python",
   "nbconvert_exporter": "python",
   "pygments_lexer": "ipython3",
   "version": "3.10.7"
  }
 },
 "nbformat": 4,
 "nbformat_minor": 5
}
